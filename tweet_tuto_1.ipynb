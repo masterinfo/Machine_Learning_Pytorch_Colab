{
  "nbformat": 4,
  "nbformat_minor": 0,
  "metadata": {
    "colab": {
      "name": "tweet_tuto_1.ipynb",
      "provenance": [],
      "authorship_tag": "ABX9TyNemnxxWHb25XPX/rTLMx/a",
      "include_colab_link": true
    },
    "kernelspec": {
      "name": "python3",
      "display_name": "Python 3"
    },
    "language_info": {
      "name": "python"
    }
  },
  "cells": [
    {
      "cell_type": "markdown",
      "metadata": {
        "id": "view-in-github",
        "colab_type": "text"
      },
      "source": [
        "<a href=\"https://colab.research.google.com/github/masterinfo/Machine_Learning_Pytorch_Colab/blob/main/tweet_tuto_1.ipynb\" target=\"_parent\"><img src=\"https://colab.research.google.com/assets/colab-badge.svg\" alt=\"Open In Colab\"/></a>"
      ]
    },
    {
      "cell_type": "code",
      "execution_count": 1,
      "metadata": {
        "id": "4CLh1cMAr2MW"
      },
      "outputs": [],
      "source": [
        "# data (training) :\n",
        "text_train = [' dont feel good ptosis ;)', '  friends dying is just horrible.', \"  In case I feel emo in camp (feeling a wee bit of it alr)...am bringing in the Human Rights Watch World Report 2009..hope it'll work\", ' credit card bill. ow my wallet.', ' : The Last Gadget http://tinyurl.com/pd4wyp #Geek_And_Poke', ' @danawalker Washington Capitals would be one of #myweakness as well.', '  i hope everyone is at church so i can just go to my concert in peace on wed.  dont have to worry about rushing back to church to visit', ' bleh... I feel like QQing now. ', '  such a nice day', ' 1 dinger in and I so regret popping that pill...', '  R.I.P young teke!!!  i miss you cuzin!! &lt;3     it has been 1 year sence you died. . .    [Dont be ashamed of your faith]', ' = next few days', ' @Nambu sending my tweets from wrong account although selected the right one.', ' breakfast with family', ' @desiredeffect', '-   going in town toda\\xd1\\x87 with m\\xd1\\x87 cousinnn, [\\xd1\\x87]     netball match was cancelledd ', \" bosco graduation then sara's voice recital\", '       Sunny Again        Work Tomorrow  :-|       TV Tonight', '=-  I always get what I want', ' @mgph3nom chilling on twitter via my spanking new blackberry w/ unlimited internet : http://tr.im/mZVC', '  forgot my lunch at home', ' @Canuckflack Speaking as a historian, WTF do you incorporate twitter buzz by upper middle class North Ame.. http://tr.im/oFLS', '   Tiger Woods is up by 2at 18 via http://nascar.com/racebuddy', '   I want to write a song. I think I will.', ' ..had to turn back to North due to body on line. So missing Design Council Design 4 Tech Transfer event   http://bit.ly/pXrzV...', '  ughhh..', '  R.I.P young teke!!!  i miss you cuzin!! &lt;3     it has been 1 year sence you died. . .    [Dont be ashamed of your faith]', ' A dog riding the bicycle http://bit.ly/gvMzD', '  @Spiral_galaxy @YMPtweet  it really makes me sad when i look at reality now', \" Can't wait for the weekend, BMTH on Saturday!\"]\n",
        "\n",
        "# le sentiment à prédire ; 0 -> negatif ; 1 -> positif\n",
        "outcome_train = [0, 0, 0, 0, 1, 1, 0, 0, 1, 0, 1, 0, 0, 1, 0, 0, 1, 0, 1, 1, 0, 1, 1, 1, 0, 0, 1, 1, 0, 1]\n",
        " "
      ]
    },
    {
      "cell_type": "code",
      "source": [
        "text_test = ['        my head feels like a bowling ball', ' 1 of my cats died only at 3 days old too..RIP ming.', '  Jin has a twitter.', '  go give ur mom a hug right now. http://bit.ly/azFwv', '  pleased', '  forgot my lunch at home', \" @sweetlilmzmia: &quot;Gotta LOVE Blip.fm - John Mayer Trio - CALIFORNIA DREAMIN' as heard on Conan 06/04/2009 ---... \\xe2\\x99\\xab http://blip.fm/~7qdf0\", \" Am I feeding the Pig'?\", ' - sannesias: Aww no neighbor! We need to watch Mean Girls :] http://tumblr.com/xv31s2pi8', ' anyone know if Ghostbusters is region free on 360?? and where to get a US copy in Britain if it is']\n",
        "\n",
        "outcome_test  = [0, 0, 1, 1, 1, 0, 1, 1, 0, 0]\n",
        " "
      ],
      "metadata": {
        "id": "tYaSSe-Rr7SI"
      },
      "execution_count": 2,
      "outputs": []
    },
    {
      "cell_type": "code",
      "source": [
        "from sklearn.feature_extraction.text import TfidfVectorizer\n",
        "from sklearn.pipeline import Pipeline\n",
        "from sklearn.naive_bayes import MultinomialNB\n",
        "from sklearn import metrics\n",
        "\n",
        "# 1 ______________ PIPELINE (tf-idf vectorizer -> classifier)\n",
        "text_clf = Pipeline([('tfidf', TfidfVectorizer()),('clf', MultinomialNB())])\n",
        "\n",
        "# 2 APPRENTISSAGE on donne les questions et les réponses\n",
        "text_clf.fit(text_train, outcome_train)\n",
        "\n",
        "# 3 TEST sur données non vues durant phase apprentissage\n",
        "predicted = text_clf.predict(text_test)\n",
        "# verification des predictions \n",
        "print(metrics.accuracy_score(outcome_test , predicted))"
      ],
      "metadata": {
        "colab": {
          "base_uri": "https://localhost:8080/"
        },
        "id": "TIh66x_MsDuk",
        "outputId": "dde38b77-eef1-4e2c-e038-e63f8c392aad"
      },
      "execution_count": 3,
      "outputs": [
        {
          "output_type": "stream",
          "name": "stdout",
          "text": [
            "0.6\n"
          ]
        }
      ]
    },
    {
      "cell_type": "code",
      "source": [
        "print(predicted)"
      ],
      "metadata": {
        "colab": {
          "base_uri": "https://localhost:8080/"
        },
        "id": "86h9DxT4tbYV",
        "outputId": "3bc1f2c8-f2b8-4dec-afe5-c5f0bc054e9a"
      },
      "execution_count": 4,
      "outputs": [
        {
          "output_type": "stream",
          "name": "stdout",
          "text": [
            "[0 0 1 0 0 0 1 0 1 0]\n"
          ]
        }
      ]
    },
    {
      "cell_type": "code",
      "source": [
        "print(text_clf.get_params())"
      ],
      "metadata": {
        "colab": {
          "base_uri": "https://localhost:8080/"
        },
        "id": "n6WCvQ1itilU",
        "outputId": "482e923d-98a3-4354-ebaf-045703c19113"
      },
      "execution_count": 6,
      "outputs": [
        {
          "output_type": "stream",
          "name": "stdout",
          "text": [
            "{'memory': None, 'steps': [('tfidf', TfidfVectorizer()), ('clf', MultinomialNB())], 'verbose': False, 'tfidf': TfidfVectorizer(), 'clf': MultinomialNB(), 'tfidf__analyzer': 'word', 'tfidf__binary': False, 'tfidf__decode_error': 'strict', 'tfidf__dtype': <class 'numpy.float64'>, 'tfidf__encoding': 'utf-8', 'tfidf__input': 'content', 'tfidf__lowercase': True, 'tfidf__max_df': 1.0, 'tfidf__max_features': None, 'tfidf__min_df': 1, 'tfidf__ngram_range': (1, 1), 'tfidf__norm': 'l2', 'tfidf__preprocessor': None, 'tfidf__smooth_idf': True, 'tfidf__stop_words': None, 'tfidf__strip_accents': None, 'tfidf__sublinear_tf': False, 'tfidf__token_pattern': '(?u)\\\\b\\\\w\\\\w+\\\\b', 'tfidf__tokenizer': None, 'tfidf__use_idf': True, 'tfidf__vocabulary': None, 'clf__alpha': 1.0, 'clf__class_prior': None, 'clf__fit_prior': True}\n"
          ]
        }
      ]
    }
  ]
}