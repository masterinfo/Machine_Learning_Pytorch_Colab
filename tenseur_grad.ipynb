{
  "nbformat": 4,
  "nbformat_minor": 0,
  "metadata": {
    "colab": {
      "name": "tenseur_grad.ipynb",
      "provenance": [],
      "authorship_tag": "ABX9TyOwAN6dhWV9A8bDTRElUsZS",
      "include_colab_link": true
    },
    "kernelspec": {
      "name": "python3",
      "display_name": "Python 3"
    },
    "language_info": {
      "name": "python"
    }
  },
  "cells": [
    {
      "cell_type": "markdown",
      "metadata": {
        "id": "view-in-github",
        "colab_type": "text"
      },
      "source": [
        "<a href=\"https://colab.research.google.com/github/masterinfo/Machine_Learning_Pytorch_Colab/blob/main/tenseur_grad.ipynb\" target=\"_parent\"><img src=\"https://colab.research.google.com/assets/colab-badge.svg\" alt=\"Open In Colab\"/></a>"
      ]
    },
    {
      "cell_type": "markdown",
      "source": [
        "**PyTorch Autograd **"
      ],
      "metadata": {
        "id": "d93aNJ58RrnF"
      }
    },
    {
      "cell_type": "markdown",
      "source": [
        "La bibliothèque Autograd permet le calcul automatique de gradients d’une fonction par rapport à ses paramètres. Elle sert ainsi à effectuer facilement l’étape de backpropagation lors de l’entraînement d’un réseau de neurones. En effet, lorsqu’un tenseur est créé avec l’option require_grad = True, ceci signale à Autograd que chaque opération effectuée sur ce tenseur doit être gardée en mémoire."
      ],
      "metadata": {
        "id": "-g2SKZnrRutj"
      }
    },
    {
      "cell_type": "code",
      "execution_count": 3,
      "metadata": {
        "colab": {
          "base_uri": "https://localhost:8080/"
        },
        "id": "IUmMIk8qRc8C",
        "outputId": "04b02266-52c9-434b-8267-2e1774cf2b3e"
      },
      "outputs": [
        {
          "output_type": "stream",
          "name": "stdout",
          "text": [
            "tensor([[-0.0076, -2.0898],\n",
            "        [ 0.7299, -1.0437]], requires_grad=True) torch.float32 torch.Size([2, 2])\n",
            "tenseur out\n",
            "tensor(5.9894, grad_fn=<SumBackward0>) torch.float32 torch.Size([])\n",
            "tenseur gradient de x\n",
            "tensor([[-0.0152, -4.1796],\n",
            "        [ 1.4597, -2.0874]])\n",
            "tenseur 2x\n",
            "tensor([[-0.0152, -4.1796],\n",
            "        [ 1.4597, -2.0874]], grad_fn=<MulBackward0>)\n"
          ]
        }
      ],
      "source": [
        "## importer la bibliothèque PyTorch\n",
        "import torch \n",
        "## définir un tenseur aléatoire\n",
        "x = torch.randn(2, 2, requires_grad=True)\n",
        " \n",
        "## effectuer une opération sur le tenseur : somme (xi**2)\n",
        "print(x, x.dtype, x.shape)\n",
        " \n",
        "## Attention l’opération doit retourner un scalaire pour que la fonction backward fonctionne\n",
        "out = x.pow(2).sum() ## scalaire\n",
        "print(\"tenseur out\")\n",
        "print(out, out.dtype, out.shape)\n",
        " \n",
        "## étape de rétropropagation ou backward pour calculer les gradients de out par rapport à la variable x\n",
        "out.backward() \n",
        " \n",
        "## Le gradient est stocké dans x.grad ; pour vérifier le résultat, on devrait avoir 2*x ( derivée de x^2 =2X )\n",
        "print(\"tenseur gradient de x\")\n",
        "print(x.grad)\n",
        "print(\"tenseur 2x\")\n",
        "print(2*x)"
      ]
    },
    {
      "cell_type": "markdown",
      "source": [
        ""
      ],
      "metadata": {
        "id": "ayhByL5hRqiM"
      }
    }
  ]
}