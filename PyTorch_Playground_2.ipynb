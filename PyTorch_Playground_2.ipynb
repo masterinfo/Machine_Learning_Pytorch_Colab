{
  "nbformat": 4,
  "nbformat_minor": 0,
  "metadata": {
    "accelerator": "GPU",
    "colab": {
      "name": "PyTorch_Playground_1.ipynb",
      "provenance": [],
      "collapsed_sections": [],
      "include_colab_link": true
    },
    "kernelspec": {
      "display_name": "Python 3",
      "language": "python",
      "name": "python3"
    },
    "language_info": {
      "codemirror_mode": {
        "name": "ipython",
        "version": 3
      },
      "file_extension": ".py",
      "mimetype": "text/x-python",
      "name": "python",
      "nbconvert_exporter": "python",
      "pygments_lexer": "ipython3",
      "version": "3.6.8"
    }
  },
  "cells": [
    {
      "cell_type": "markdown",
      "metadata": {
        "id": "view-in-github",
        "colab_type": "text"
      },
      "source": [
        "<a href=\"https://colab.research.google.com/github/masterinfo/Machine_Learning_Pytorch_Colab/blob/main/PyTorch_Playground_2.ipynb\" target=\"_parent\"><img src=\"https://colab.research.google.com/assets/colab-badge.svg\" alt=\"Open In Colab\"/></a>"
      ]
    },
    {
      "cell_type": "markdown",
      "metadata": {
        "id": "gXmCHcwKs6rd"
      },
      "source": [
        "# PyTorch playground"
      ]
    },
    {
      "cell_type": "code",
      "metadata": {
        "id": "PzCCniVwNTdp"
      },
      "source": [
        "# Setting seeds to try and ensure we have the same results - this is not guaranteed across PyTorch releases.\n",
        "import torch\n",
        "torch.manual_seed(0)\n",
        "torch.backends.cudnn.deterministic = True\n",
        "torch.backends.cudnn.benchmark = False\n",
        "\n",
        "import numpy as np\n",
        "np.random.seed(0)"
      ],
      "execution_count": 9,
      "outputs": []
    },
    {
      "cell_type": "code",
      "metadata": {
        "id": "fQLW-HL7_0pT",
        "outputId": "8c0c953d-5e13-4fb3-d7a3-267c50b662ec",
        "colab": {
          "base_uri": "https://localhost:8080/"
        }
      },
      "source": [
        "device = torch.device(\"cuda\" if torch.cuda.is_available() else \"cpu\")\n",
        "print(device)\n"
      ],
      "execution_count": 10,
      "outputs": [
        {
          "output_type": "stream",
          "name": "stdout",
          "text": [
            "cpu\n"
          ]
        }
      ]
    },
    {
      "cell_type": "code",
      "metadata": {
        "id": "PCJzXv0OK1Bs"
      },
      "source": [
        "from torchvision import datasets, transforms\n",
        "import torch.nn.functional as F\n",
        "from torch import nn\n",
        "\n",
        "mean, std = (0.5,), (0.5,)\n",
        "\n",
        "# Create a transform and normalise data\n",
        "transform = transforms.Compose([transforms.ToTensor(),\n",
        "                                transforms.Normalize(mean, std)\n",
        "                              ])\n",
        "\n",
        "# Download FMNIST training dataset and load training data\n",
        "trainset = datasets.FashionMNIST('~/.pytorch/FMNIST/', download=True, train=True, transform=transform)\n",
        "trainloader = torch.utils.data.DataLoader(trainset, batch_size=64, shuffle=True)\n",
        "\n",
        "# Download FMNIST test dataset and load test data\n",
        "testset = datasets.FashionMNIST('~/.pytorch/FMNIST/', download=True, train=False, transform=transform)\n",
        "testloader = torch.utils.data.DataLoader(testset, batch_size=64, shuffle=False)"
      ],
      "execution_count": 11,
      "outputs": []
    },
    {
      "cell_type": "code",
      "metadata": {
        "id": "rqMqFbIVrbFH"
      },
      "source": [
        "class FMNIST(nn.Module):\n",
        "  def __init__(self):\n",
        "    super().__init__()\n",
        "    self.fc1 = nn.Linear(784, 128)\n",
        "    self.fc2 = nn.Linear(128,64)\n",
        "    self.fc3 = nn.Linear(64,10)\n",
        "      # Define proportion or neurons to dropout\n",
        "    self.dropout = nn.Dropout(0.1)\n",
        "\n",
        "    \n",
        "  def forward(self, x):\n",
        "    x = x.view(x.shape[0], -1)\n",
        "    \n",
        "    x = F.relu(self.fc1(x))\n",
        "    # Apply dropout\n",
        "    x = self.dropout(x)\n",
        "\n",
        "    x = F.relu(self.fc2(x))\n",
        "    # Apply dropout\n",
        "    x = self.dropout(x)\n",
        "\n",
        "    x = self.fc3(x)\n",
        "    x = F.log_softmax(x, dim=1)\n",
        "    \n",
        "    return x\n",
        "\n",
        "model = FMNIST()"
      ],
      "execution_count": 12,
      "outputs": []
    },
    {
      "cell_type": "code",
      "metadata": {
        "id": "67eZUNEM5b7n",
        "outputId": "20194876-1724-49b3-8534-b39488251646",
        "colab": {
          "base_uri": "https://localhost:8080/"
        }
      },
      "source": [
        "model.to(device)"
      ],
      "execution_count": 13,
      "outputs": [
        {
          "output_type": "execute_result",
          "data": {
            "text/plain": [
              "FMNIST(\n",
              "  (fc1): Linear(in_features=784, out_features=128, bias=True)\n",
              "  (fc2): Linear(in_features=128, out_features=64, bias=True)\n",
              "  (fc3): Linear(in_features=64, out_features=10, bias=True)\n",
              "  (dropout): Dropout(p=0.1, inplace=False)\n",
              ")"
            ]
          },
          "metadata": {},
          "execution_count": 13
        }
      ]
    },
    {
      "cell_type": "markdown",
      "metadata": {
        "id": "XPdDu7KfWEfW"
      },
      "source": [
        "- The only change we have made to the code is that we are going to track the training loss, the testing loss and the accuracy across the 30 epochs.\n",
        "- We'll print out the train loss, the test loss and the accuracy after each epoch.\n",
        "- Because we are running this over 30 epochs this will take a bit longer to run - approx 15 minutes."
      ]
    },
    {
      "cell_type": "code",
      "metadata": {
        "id": "VJLzWi0UqGWm",
        "outputId": "646f8c4e-ddde-4ed2-da4b-aaaff866d03c",
        "colab": {
          "base_uri": "https://localhost:8080/"
        }
      },
      "source": [
        "from torch import optim\n",
        "criterion = nn.NLLLoss()\n",
        "optimizer = optim.SGD(model.parameters(), lr=0.01)\n",
        "\n",
        "num_epochs = 250\n",
        "train_tracker, test_tracker, accuracy_tracker = [], [], []\n",
        "\n",
        "\n",
        "for i in range(num_epochs):\n",
        "    cum_loss = 0\n",
        "    \n",
        "    for batch, (images, labels) in enumerate(trainloader,1):\n",
        "        images = images.to(device)\n",
        "        labels = labels.to(device)\n",
        "        \n",
        "        optimizer.zero_grad()\n",
        "        output = model(images)\n",
        "        loss = criterion(output, labels)\n",
        "        loss.backward() #calcul du gradient\n",
        "        optimizer.step() #maj des weights\n",
        "        \n",
        "        cum_loss += loss.item()  #ajout du loss du batch \n",
        "    \n",
        "    train_tracker.append(cum_loss/len(trainloader)) #loss de l'époque / nb d'items de train\n",
        "    print(f\"Epoch({i+1}/{num_epochs}) | Training loss: {cum_loss/len(trainloader)} | \",end='') #pour chaque epoch\n",
        "    \n",
        "    test_loss = 0\n",
        "    num_correct = 0\n",
        "    total = 0\n",
        "    \n",
        "    for batch, (images, labels) in enumerate(testloader,1): #apres chaque epoch on regarde le model sur le jeu de test pour voir l'accuracy\n",
        "        images = images.to(device)\n",
        "        labels = labels.to(device)\n",
        "        \n",
        "        logps = model(images)\n",
        "        batch_loss = criterion(logps, labels)        #loss pour chaque batch de test\n",
        "        test_loss += batch_loss.item()               #ajoout des loss pour le loss complet ulterieur\n",
        "        \n",
        "        output = torch.exp(logps)                    # valeur de sortie  exp du log \n",
        "        pred = torch.argmax(output, 1)               # valeur de prediction\n",
        "        total += labels.size(0)                      # nb d'item = nb de labels\n",
        "        num_correct += (pred == labels).sum().item() # nb de valeur correctes\n",
        "    \n",
        "    test_tracker.append(test_loss/len(testloader))   #loss de l'époque / nb d'items d etest\n",
        "    print(f\"Test loss: {test_loss/len(testloader)} | \", end='')\n",
        "    accuracy_tracker.append(num_correct/total)      #accuracy de chaque batch pour chaque epoque\n",
        "    print(f'Accuracy : {num_correct/total}')        \n",
        "print(f'\\nNumber correct : {num_correct}, Total : {total}')\n",
        "print(f'Accuracy of the model after 30 epochs on the 10000 test images: {num_correct * 100 / total}% ')\n",
        "    \n",
        "    "
      ],
      "execution_count": 14,
      "outputs": [
        {
          "output_type": "stream",
          "name": "stdout",
          "text": [
            "Epoch(1/250) | Training loss: 1.1107796267596388 | Test loss: 0.718319933885222 | Accuracy : 0.7282\n",
            "Epoch(2/250) | Training loss: 0.627405146228225 | Test loss: 0.6009610452849394 | Accuracy : 0.7805\n",
            "Epoch(3/250) | Training loss: 0.5482707383599617 | Test loss: 0.5537668041362884 | Accuracy : 0.7994\n",
            "Epoch(4/250) | Training loss: 0.504481802489966 | Test loss: 0.5176829042708039 | Accuracy : 0.8114\n",
            "Epoch(5/250) | Training loss: 0.477292443834134 | Test loss: 0.48729727298590786 | Accuracy : 0.8249\n",
            "Epoch(6/250) | Training loss: 0.45415072784876265 | Test loss: 0.4754912961440481 | Accuracy : 0.8275\n",
            "Epoch(7/250) | Training loss: 0.43689488200172943 | Test loss: 0.4681894242953343 | Accuracy : 0.8328\n",
            "Epoch(8/250) | Training loss: 0.4217653641981611 | Test loss: 0.4537594116227642 | Accuracy : 0.8381\n",
            "Epoch(9/250) | Training loss: 0.4109729302844513 | Test loss: 0.4488630390660778 | Accuracy : 0.8391\n",
            "Epoch(10/250) | Training loss: 0.3995118127512271 | Test loss: 0.4348977934213201 | Accuracy : 0.8435\n",
            "Epoch(11/250) | Training loss: 0.39147964658449963 | Test loss: 0.4307730058386068 | Accuracy : 0.8429\n",
            "Epoch(12/250) | Training loss: 0.3828249146053786 | Test loss: 0.4242542869156333 | Accuracy : 0.8476\n",
            "Epoch(13/250) | Training loss: 0.37519805634549175 | Test loss: 0.4175747007511224 | Accuracy : 0.8498\n",
            "Epoch(14/250) | Training loss: 0.36955103089115515 | Test loss: 0.4103820155950109 | Accuracy : 0.8536\n",
            "Epoch(15/250) | Training loss: 0.36337229749287114 | Test loss: 0.4028102551486082 | Accuracy : 0.8578\n",
            "Epoch(16/250) | Training loss: 0.3553089749203054 | Test loss: 0.3999947652125814 | Accuracy : 0.8549\n",
            "Epoch(17/250) | Training loss: 0.351063123215109 | Test loss: 0.4001179010055627 | Accuracy : 0.8559\n",
            "Epoch(18/250) | Training loss: 0.3473163793272555 | Test loss: 0.398969148279755 | Accuracy : 0.8545\n",
            "Epoch(19/250) | Training loss: 0.33896692101158565 | Test loss: 0.38861520094856333 | Accuracy : 0.8625\n",
            "Epoch(20/250) | Training loss: 0.3362017518389962 | Test loss: 0.3850012308662864 | Accuracy : 0.8596\n",
            "Epoch(21/250) | Training loss: 0.3315954074136484 | Test loss: 0.3860705088657938 | Accuracy : 0.8613\n",
            "Epoch(22/250) | Training loss: 0.3251035229356558 | Test loss: 0.3784942907892215 | Accuracy : 0.8632\n",
            "Epoch(23/250) | Training loss: 0.32195849558596673 | Test loss: 0.3765279517811575 | Accuracy : 0.8652\n",
            "Epoch(24/250) | Training loss: 0.31729721869709393 | Test loss: 0.3721015277751692 | Accuracy : 0.8684\n",
            "Epoch(25/250) | Training loss: 0.3124169092506234 | Test loss: 0.37770138614496607 | Accuracy : 0.8644\n",
            "Epoch(26/250) | Training loss: 0.3088066160742408 | Test loss: 0.37386295199394226 | Accuracy : 0.8649\n",
            "Epoch(27/250) | Training loss: 0.3051648155760282 | Test loss: 0.3780770214025382 | Accuracy : 0.8669\n",
            "Epoch(28/250) | Training loss: 0.3042143225383911 | Test loss: 0.36300405252511336 | Accuracy : 0.8739\n",
            "Epoch(29/250) | Training loss: 0.2987330150820299 | Test loss: 0.3641676767047044 | Accuracy : 0.8718\n",
            "Epoch(30/250) | Training loss: 0.2960447690634331 | Test loss: 0.36057176369770316 | Accuracy : 0.8721\n",
            "Epoch(31/250) | Training loss: 0.29241312318233287 | Test loss: 0.36555774206188835 | Accuracy : 0.8716\n",
            "Epoch(32/250) | Training loss: 0.2892353250972752 | Test loss: 0.36158406326345577 | Accuracy : 0.8749\n",
            "Epoch(33/250) | Training loss: 0.2867369332086684 | Test loss: 0.35892769476031045 | Accuracy : 0.8719\n",
            "Epoch(34/250) | Training loss: 0.2833996683851615 | Test loss: 0.3624013186829865 | Accuracy : 0.8735\n",
            "Epoch(35/250) | Training loss: 0.2799931439493638 | Test loss: 0.3626300357044882 | Accuracy : 0.8729\n",
            "Epoch(36/250) | Training loss: 0.27860182088448293 | Test loss: 0.35215423298869164 | Accuracy : 0.8763\n",
            "Epoch(37/250) | Training loss: 0.2751576125161099 | Test loss: 0.35273382409363035 | Accuracy : 0.8777\n",
            "Epoch(38/250) | Training loss: 0.2737095383788223 | Test loss: 0.3544445697479187 | Accuracy : 0.8739\n",
            "Epoch(39/250) | Training loss: 0.26961908358405395 | Test loss: 0.37098478554350556 | Accuracy : 0.8692\n",
            "Epoch(40/250) | Training loss: 0.26664071514217585 | Test loss: 0.3534936197813909 | Accuracy : 0.8755\n",
            "Epoch(41/250) | Training loss: 0.2645095660885387 | Test loss: 0.3465137224478327 | Accuracy : 0.8782\n",
            "Epoch(42/250) | Training loss: 0.2628026823165701 | Test loss: 0.3518337936727864 | Accuracy : 0.8722\n",
            "Epoch(43/250) | Training loss: 0.25862311088104745 | Test loss: 0.35198129922341387 | Accuracy : 0.8779\n",
            "Epoch(44/250) | Training loss: 0.2579353094450446 | Test loss: 0.35271406553353474 | Accuracy : 0.8772\n",
            "Epoch(45/250) | Training loss: 0.25389899095015994 | Test loss: 0.3562607507037509 | Accuracy : 0.8751\n",
            "Epoch(46/250) | Training loss: 0.25201512607080595 | Test loss: 0.3459731445760484 | Accuracy : 0.8794\n",
            "Epoch(47/250) | Training loss: 0.2507789764108498 | Test loss: 0.3666938008016841 | Accuracy : 0.8666\n",
            "Epoch(48/250) | Training loss: 0.24733953776040565 | Test loss: 0.3525687981942657 | Accuracy : 0.8766\n",
            "Epoch(49/250) | Training loss: 0.2458148705584408 | Test loss: 0.35200206280513935 | Accuracy : 0.8749\n",
            "Epoch(50/250) | Training loss: 0.24417762714090632 | Test loss: 0.35510308328707507 | Accuracy : 0.8757\n",
            "Epoch(51/250) | Training loss: 0.24163338987589644 | Test loss: 0.34742335642978645 | Accuracy : 0.8791\n",
            "Epoch(52/250) | Training loss: 0.23998090959211657 | Test loss: 0.34177333415503713 | Accuracy : 0.8814\n",
            "Epoch(53/250) | Training loss: 0.23758331259716547 | Test loss: 0.3503636465330792 | Accuracy : 0.8816\n",
            "Epoch(54/250) | Training loss: 0.23539389410157446 | Test loss: 0.34926305170271804 | Accuracy : 0.88\n",
            "Epoch(55/250) | Training loss: 0.23436015379676686 | Test loss: 0.3532747069172039 | Accuracy : 0.8775\n",
            "Epoch(56/250) | Training loss: 0.23097442071448002 | Test loss: 0.3477849938497422 | Accuracy : 0.8792\n",
            "Epoch(57/250) | Training loss: 0.22867590422505762 | Test loss: 0.3435983661158829 | Accuracy : 0.8819\n",
            "Epoch(58/250) | Training loss: 0.22779011790718096 | Test loss: 0.3586689258456989 | Accuracy : 0.8754\n",
            "Epoch(59/250) | Training loss: 0.22637619084513771 | Test loss: 0.35052239932831686 | Accuracy : 0.8781\n",
            "Epoch(60/250) | Training loss: 0.22295328297578831 | Test loss: 0.3491454356984728 | Accuracy : 0.8805\n",
            "Epoch(61/250) | Training loss: 0.2233260396454952 | Test loss: 0.36570774502814957 | Accuracy : 0.8764\n",
            "Epoch(62/250) | Training loss: 0.21825154626499743 | Test loss: 0.3487259942065379 | Accuracy : 0.8798\n",
            "Epoch(63/250) | Training loss: 0.21758332524869614 | Test loss: 0.34171412951627356 | Accuracy : 0.8814\n",
            "Epoch(64/250) | Training loss: 0.21896639322913658 | Test loss: 0.3447139334336967 | Accuracy : 0.882\n",
            "Epoch(65/250) | Training loss: 0.2150682832068726 | Test loss: 0.3514008877004028 | Accuracy : 0.8785\n",
            "Epoch(66/250) | Training loss: 0.21204249594193786 | Test loss: 0.34857629837503856 | Accuracy : 0.8767\n",
            "Epoch(67/250) | Training loss: 0.21122875237372765 | Test loss: 0.34837304881423903 | Accuracy : 0.8835\n",
            "Epoch(68/250) | Training loss: 0.20949948831661933 | Test loss: 0.3404833125840327 | Accuracy : 0.8815\n",
            "Epoch(69/250) | Training loss: 0.20747550122185685 | Test loss: 0.36016962719950707 | Accuracy : 0.8735\n",
            "Epoch(70/250) | Training loss: 0.20669639901692932 | Test loss: 0.35521746858669695 | Accuracy : 0.8822\n",
            "Epoch(71/250) | Training loss: 0.2039049156208727 | Test loss: 0.3457724823598649 | Accuracy : 0.8818\n",
            "Epoch(72/250) | Training loss: 0.20269777965761704 | Test loss: 0.34804011425774567 | Accuracy : 0.883\n",
            "Epoch(73/250) | Training loss: 0.20033322986382157 | Test loss: 0.3456393317052513 | Accuracy : 0.8806\n",
            "Epoch(74/250) | Training loss: 0.1986082278327075 | Test loss: 0.34474455911642427 | Accuracy : 0.8818\n",
            "Epoch(75/250) | Training loss: 0.19796164685697443 | Test loss: 0.3501108073789603 | Accuracy : 0.8817\n",
            "Epoch(76/250) | Training loss: 0.1957984273192852 | Test loss: 0.3492517541548249 | Accuracy : 0.8817\n",
            "Epoch(77/250) | Training loss: 0.1961718882793493 | Test loss: 0.3469891648763304 | Accuracy : 0.8821\n",
            "Epoch(78/250) | Training loss: 0.19497184677402984 | Test loss: 0.3531046869458666 | Accuracy : 0.8855\n",
            "Epoch(79/250) | Training loss: 0.19231836148289475 | Test loss: 0.35159290567704826 | Accuracy : 0.8791\n",
            "Epoch(80/250) | Training loss: 0.19039082066066612 | Test loss: 0.346549912480412 | Accuracy : 0.8804\n",
            "Epoch(81/250) | Training loss: 0.1901882777590233 | Test loss: 0.3558223414572941 | Accuracy : 0.8784\n",
            "Epoch(82/250) | Training loss: 0.18860861415198363 | Test loss: 0.3525820025213205 | Accuracy : 0.8807\n",
            "Epoch(83/250) | Training loss: 0.18736091275602135 | Test loss: 0.3535191234035097 | Accuracy : 0.8817\n",
            "Epoch(84/250) | Training loss: 0.18395428987406592 | Test loss: 0.35160416654150956 | Accuracy : 0.88\n",
            "Epoch(85/250) | Training loss: 0.18413125479748763 | Test loss: 0.3601869689715896 | Accuracy : 0.8801\n",
            "Epoch(86/250) | Training loss: 0.1812550959580425 | Test loss: 0.36435341308261177 | Accuracy : 0.8777\n",
            "Epoch(87/250) | Training loss: 0.18233833567642455 | Test loss: 0.36225878233742564 | Accuracy : 0.8815\n",
            "Epoch(88/250) | Training loss: 0.1787765510856851 | Test loss: 0.3495460514240204 | Accuracy : 0.8857\n",
            "Epoch(89/250) | Training loss: 0.1788290070175235 | Test loss: 0.3533572354324304 | Accuracy : 0.8817\n",
            "Epoch(90/250) | Training loss: 0.17856668309965876 | Test loss: 0.3569137679448553 | Accuracy : 0.8808\n",
            "Epoch(91/250) | Training loss: 0.1760144864103751 | Test loss: 0.37612221285605885 | Accuracy : 0.8767\n",
            "Epoch(92/250) | Training loss: 0.1758898455085658 | Test loss: 0.3553832347036167 | Accuracy : 0.8819\n",
            "Epoch(93/250) | Training loss: 0.17205997957571992 | Test loss: 0.3600788218959881 | Accuracy : 0.8772\n",
            "Epoch(94/250) | Training loss: 0.17117658384970383 | Test loss: 0.36388644300828316 | Accuracy : 0.8807\n",
            "Epoch(95/250) | Training loss: 0.1704800840197151 | Test loss: 0.3574710904033321 | Accuracy : 0.8822\n",
            "Epoch(96/250) | Training loss: 0.16976548914215775 | Test loss: 0.3649948401625749 | Accuracy : 0.88\n",
            "Epoch(97/250) | Training loss: 0.16604474918849305 | Test loss: 0.3716255453931298 | Accuracy : 0.8812\n",
            "Epoch(98/250) | Training loss: 0.16669932499067233 | Test loss: 0.362661989536255 | Accuracy : 0.8833\n",
            "Epoch(99/250) | Training loss: 0.16580392633562785 | Test loss: 0.4320301687356773 | Accuracy : 0.8602\n",
            "Epoch(100/250) | Training loss: 0.16402194001225393 | Test loss: 0.3531954955713005 | Accuracy : 0.8822\n",
            "Epoch(101/250) | Training loss: 0.16215053872703744 | Test loss: 0.356067100243204 | Accuracy : 0.8825\n",
            "Epoch(102/250) | Training loss: 0.159567484242925 | Test loss: 0.3742879069629748 | Accuracy : 0.8745\n",
            "Epoch(103/250) | Training loss: 0.15940907673795085 | Test loss: 0.37034869996035935 | Accuracy : 0.8798\n",
            "Epoch(104/250) | Training loss: 0.15791641399542342 | Test loss: 0.3705075919912879 | Accuracy : 0.8768\n",
            "Epoch(105/250) | Training loss: 0.1580109852654085 | Test loss: 0.37245815593725556 | Accuracy : 0.8825\n",
            "Epoch(106/250) | Training loss: 0.15767333547729673 | Test loss: 0.36791289374706854 | Accuracy : 0.879\n",
            "Epoch(107/250) | Training loss: 0.15617762871785587 | Test loss: 0.36653146456191493 | Accuracy : 0.8831\n",
            "Epoch(108/250) | Training loss: 0.15458053050598483 | Test loss: 0.37327207596438705 | Accuracy : 0.882\n",
            "Epoch(109/250) | Training loss: 0.152565373675719 | Test loss: 0.36475786538260757 | Accuracy : 0.88\n",
            "Epoch(110/250) | Training loss: 0.1534677664401816 | Test loss: 0.36668143620726407 | Accuracy : 0.8816\n",
            "Epoch(111/250) | Training loss: 0.15148391678873727 | Test loss: 0.3694920974077692 | Accuracy : 0.8832\n",
            "Epoch(112/250) | Training loss: 0.15110498792660643 | Test loss: 0.36762843432889625 | Accuracy : 0.883\n",
            "Epoch(113/250) | Training loss: 0.15175646677938923 | Test loss: 0.3673891873116706 | Accuracy : 0.8845\n",
            "Epoch(114/250) | Training loss: 0.14981424583515315 | Test loss: 0.36379956064900015 | Accuracy : 0.886\n",
            "Epoch(115/250) | Training loss: 0.1473913273728415 | Test loss: 0.3785431414462958 | Accuracy : 0.8829\n",
            "Epoch(116/250) | Training loss: 0.14587113839079704 | Test loss: 0.3774016489079044 | Accuracy : 0.8805\n",
            "Epoch(117/250) | Training loss: 0.14557986042853485 | Test loss: 0.36957675152143854 | Accuracy : 0.886\n",
            "Epoch(118/250) | Training loss: 0.14398012389299839 | Test loss: 0.37293789284244466 | Accuracy : 0.8823\n",
            "Epoch(119/250) | Training loss: 0.14434102145252006 | Test loss: 0.3832412002857324 | Accuracy : 0.8809\n",
            "Epoch(120/250) | Training loss: 0.14447829957360397 | Test loss: 0.38763128406113123 | Accuracy : 0.8796\n",
            "Epoch(121/250) | Training loss: 0.14229274176950776 | Test loss: 0.37570458674316953 | Accuracy : 0.8814\n",
            "Epoch(122/250) | Training loss: 0.1395352687567536 | Test loss: 0.382939434734879 | Accuracy : 0.8794\n",
            "Epoch(123/250) | Training loss: 0.13705611105428447 | Test loss: 0.38680824077433085 | Accuracy : 0.8792\n",
            "Epoch(124/250) | Training loss: 0.13907323036489805 | Test loss: 0.37737722258279277 | Accuracy : 0.8808\n",
            "Epoch(125/250) | Training loss: 0.1373266280650584 | Test loss: 0.39479619103252506 | Accuracy : 0.8772\n",
            "Epoch(126/250) | Training loss: 0.1369658233200722 | Test loss: 0.39152261524633236 | Accuracy : 0.8799\n",
            "Epoch(127/250) | Training loss: 0.13609894698283184 | Test loss: 0.37358372696455877 | Accuracy : 0.8849\n",
            "Epoch(128/250) | Training loss: 0.13408006054522004 | Test loss: 0.3772599859886868 | Accuracy : 0.8848\n",
            "Epoch(129/250) | Training loss: 0.13372119395002754 | Test loss: 0.397472579483014 | Accuracy : 0.8823\n",
            "Epoch(130/250) | Training loss: 0.1322905798333445 | Test loss: 0.4009465504508869 | Accuracy : 0.876\n",
            "Epoch(131/250) | Training loss: 0.13118876354780787 | Test loss: 0.38944364059123265 | Accuracy : 0.8797\n",
            "Epoch(132/250) | Training loss: 0.13079577080333538 | Test loss: 0.390326335836368 | Accuracy : 0.8827\n",
            "Epoch(133/250) | Training loss: 0.13073112513385474 | Test loss: 0.39082609691247816 | Accuracy : 0.8799\n",
            "Epoch(134/250) | Training loss: 0.12725530238722815 | Test loss: 0.39045270318817943 | Accuracy : 0.8854\n",
            "Epoch(135/250) | Training loss: 0.12759378123909298 | Test loss: 0.39291905891743434 | Accuracy : 0.8809\n",
            "Epoch(136/250) | Training loss: 0.12877435526097697 | Test loss: 0.39794690719550585 | Accuracy : 0.8798\n",
            "Epoch(137/250) | Training loss: 0.12724592378422586 | Test loss: 0.41818233669563465 | Accuracy : 0.8787\n",
            "Epoch(138/250) | Training loss: 0.12749220871491662 | Test loss: 0.3920950667019103 | Accuracy : 0.8824\n",
            "Epoch(139/250) | Training loss: 0.126655938772997 | Test loss: 0.38560974559966166 | Accuracy : 0.8852\n",
            "Epoch(140/250) | Training loss: 0.124842995469933 | Test loss: 0.38833149674401923 | Accuracy : 0.8842\n",
            "Epoch(141/250) | Training loss: 0.12433600847297577 | Test loss: 0.3965664639309713 | Accuracy : 0.8829\n",
            "Epoch(142/250) | Training loss: 0.12150559586280191 | Test loss: 0.4096445060649495 | Accuracy : 0.8815\n",
            "Epoch(143/250) | Training loss: 0.12105603449181644 | Test loss: 0.40386253286888646 | Accuracy : 0.8789\n",
            "Epoch(144/250) | Training loss: 0.12255178010269904 | Test loss: 0.40111397401352594 | Accuracy : 0.8802\n",
            "Epoch(145/250) | Training loss: 0.11998810986084725 | Test loss: 0.419771405352149 | Accuracy : 0.8787\n",
            "Epoch(146/250) | Training loss: 0.12153557204464668 | Test loss: 0.39082375780981815 | Accuracy : 0.8869\n",
            "Epoch(147/250) | Training loss: 0.11943878373230445 | Test loss: 0.4137117033646365 | Accuracy : 0.8751\n",
            "Epoch(148/250) | Training loss: 0.11797713466894144 | Test loss: 0.39585038023010183 | Accuracy : 0.8811\n",
            "Epoch(149/250) | Training loss: 0.11651102559410655 | Test loss: 0.4159828912300669 | Accuracy : 0.8775\n",
            "Epoch(150/250) | Training loss: 0.11625894151929854 | Test loss: 0.39680094067837784 | Accuracy : 0.8865\n",
            "Epoch(151/250) | Training loss: 0.1167870303655643 | Test loss: 0.4203296098264919 | Accuracy : 0.8786\n",
            "Epoch(152/250) | Training loss: 0.11422531549006637 | Test loss: 0.41431714746223136 | Accuracy : 0.8803\n",
            "Epoch(153/250) | Training loss: 0.11510177006297656 | Test loss: 0.4308854183953279 | Accuracy : 0.8772\n",
            "Epoch(154/250) | Training loss: 0.11254705683087934 | Test loss: 0.4020935054037981 | Accuracy : 0.8822\n",
            "Epoch(155/250) | Training loss: 0.11235705907267929 | Test loss: 0.41442478585774734 | Accuracy : 0.8839\n",
            "Epoch(156/250) | Training loss: 0.11244876924425617 | Test loss: 0.4214996094251894 | Accuracy : 0.8819\n",
            "Epoch(157/250) | Training loss: 0.1124086568106228 | Test loss: 0.42133182334672115 | Accuracy : 0.88\n",
            "Epoch(158/250) | Training loss: 0.11082397417715395 | Test loss: 0.4198480147844667 | Accuracy : 0.88\n",
            "Epoch(159/250) | Training loss: 0.11022681964914809 | Test loss: 0.41279868378191237 | Accuracy : 0.8816\n",
            "Epoch(160/250) | Training loss: 0.11182980836907239 | Test loss: 0.4102787304266243 | Accuracy : 0.8828\n",
            "Epoch(161/250) | Training loss: 0.10951313353789005 | Test loss: 0.4191183491497283 | Accuracy : 0.8844\n",
            "Epoch(162/250) | Training loss: 0.10855447317658266 | Test loss: 0.40636462898580894 | Accuracy : 0.8825\n",
            "Epoch(163/250) | Training loss: 0.10755146540272464 | Test loss: 0.41363164198816205 | Accuracy : 0.8852\n",
            "Epoch(164/250) | Training loss: 0.10712789558271356 | Test loss: 0.4256888091754002 | Accuracy : 0.877\n",
            "Epoch(165/250) | Training loss: 0.10605909416416306 | Test loss: 0.42776020065804193 | Accuracy : 0.8791\n",
            "Epoch(166/250) | Training loss: 0.10696983388237861 | Test loss: 0.42935098740895083 | Accuracy : 0.8781\n",
            "Epoch(167/250) | Training loss: 0.10513282165741489 | Test loss: 0.4130190839148631 | Accuracy : 0.8824\n",
            "Epoch(168/250) | Training loss: 0.10421100645256576 | Test loss: 0.4244569062142615 | Accuracy : 0.8804\n",
            "Epoch(169/250) | Training loss: 0.10394739563555033 | Test loss: 0.4375727658818482 | Accuracy : 0.8786\n",
            "Epoch(170/250) | Training loss: 0.10221230208889635 | Test loss: 0.4210423235870471 | Accuracy : 0.8865\n",
            "Epoch(171/250) | Training loss: 0.1034900486709546 | Test loss: 0.4348251737037282 | Accuracy : 0.8808\n",
            "Epoch(172/250) | Training loss: 0.10305505766590903 | Test loss: 0.42677007653530996 | Accuracy : 0.8821\n",
            "Epoch(173/250) | Training loss: 0.10337582441654478 | Test loss: 0.43129817491314215 | Accuracy : 0.8782\n",
            "Epoch(174/250) | Training loss: 0.10054295802953592 | Test loss: 0.44497272386482567 | Accuracy : 0.8797\n",
            "Epoch(175/250) | Training loss: 0.09917189530643032 | Test loss: 0.42173916708891557 | Accuracy : 0.8858\n",
            "Epoch(176/250) | Training loss: 0.10045112020024327 | Test loss: 0.436096134554049 | Accuracy : 0.8806\n",
            "Epoch(177/250) | Training loss: 0.10029473200416578 | Test loss: 0.43231403860886386 | Accuracy : 0.8754\n",
            "Epoch(178/250) | Training loss: 0.0977402433022253 | Test loss: 0.42976732485613245 | Accuracy : 0.8821\n",
            "Epoch(179/250) | Training loss: 0.09769506238575683 | Test loss: 0.45037795166680766 | Accuracy : 0.878\n",
            "Epoch(180/250) | Training loss: 0.09890680803434808 | Test loss: 0.44154338382042135 | Accuracy : 0.8826\n",
            "Epoch(181/250) | Training loss: 0.09794096756023543 | Test loss: 0.4330434845701145 | Accuracy : 0.8857\n",
            "Epoch(182/250) | Training loss: 0.09687076013849012 | Test loss: 0.4260071881922187 | Accuracy : 0.8842\n",
            "Epoch(183/250) | Training loss: 0.09840175103761557 | Test loss: 0.4334840897921544 | Accuracy : 0.8822\n",
            "Epoch(184/250) | Training loss: 0.09453810741012889 | Test loss: 0.4441646441437636 | Accuracy : 0.8773\n",
            "Epoch(185/250) | Training loss: 0.09519762402948445 | Test loss: 0.4410762817237028 | Accuracy : 0.8803\n",
            "Epoch(186/250) | Training loss: 0.0945265676313912 | Test loss: 0.4432956255070723 | Accuracy : 0.8811\n",
            "Epoch(187/250) | Training loss: 0.09552154335667933 | Test loss: 0.4416130795173205 | Accuracy : 0.8824\n",
            "Epoch(188/250) | Training loss: 0.0944753285221406 | Test loss: 0.4464223567562498 | Accuracy : 0.8792\n",
            "Epoch(189/250) | Training loss: 0.09418266284257681 | Test loss: 0.43736769126099384 | Accuracy : 0.8825\n",
            "Epoch(190/250) | Training loss: 0.0954564372464808 | Test loss: 0.438053524845345 | Accuracy : 0.8842\n",
            "Epoch(191/250) | Training loss: 0.09080091382422523 | Test loss: 0.4579481196821116 | Accuracy : 0.8806\n",
            "Epoch(192/250) | Training loss: 0.09053609656618793 | Test loss: 0.46779328527723907 | Accuracy : 0.8806\n",
            "Epoch(193/250) | Training loss: 0.09048535615138249 | Test loss: 0.44480242490009136 | Accuracy : 0.8847\n",
            "Epoch(194/250) | Training loss: 0.0908879081297642 | Test loss: 0.4603600843222278 | Accuracy : 0.8836\n",
            "Epoch(195/250) | Training loss: 0.08965862543185128 | Test loss: 0.4581012243677856 | Accuracy : 0.8822\n",
            "Epoch(196/250) | Training loss: 0.09067422702813199 | Test loss: 0.4743963768527766 | Accuracy : 0.881\n",
            "Epoch(197/250) | Training loss: 0.08998379807001841 | Test loss: 0.450555844861231 | Accuracy : 0.8818\n",
            "Epoch(198/250) | Training loss: 0.0879811111540754 | Test loss: 0.45687447701859624 | Accuracy : 0.8847\n",
            "Epoch(199/250) | Training loss: 0.08778896588764624 | Test loss: 0.45109546663844663 | Accuracy : 0.8823\n",
            "Epoch(200/250) | Training loss: 0.08890292197684331 | Test loss: 0.4628379159862069 | Accuracy : 0.8823\n",
            "Epoch(201/250) | Training loss: 0.08956442406968966 | Test loss: 0.46910739030427995 | Accuracy : 0.8804\n",
            "Epoch(202/250) | Training loss: 0.08448240620745366 | Test loss: 0.46455687251250455 | Accuracy : 0.8823\n",
            "Epoch(203/250) | Training loss: 0.08610678002732729 | Test loss: 0.4581197280033379 | Accuracy : 0.8832\n",
            "Epoch(204/250) | Training loss: 0.0847411620984676 | Test loss: 0.45352581722341523 | Accuracy : 0.8814\n",
            "Epoch(205/250) | Training loss: 0.08605030060175863 | Test loss: 0.4621816779587679 | Accuracy : 0.8819\n",
            "Epoch(206/250) | Training loss: 0.08514902775567065 | Test loss: 0.46245060789926795 | Accuracy : 0.8824\n",
            "Epoch(207/250) | Training loss: 0.08294363895645623 | Test loss: 0.464289224166779 | Accuracy : 0.8809\n",
            "Epoch(208/250) | Training loss: 0.0838469486149437 | Test loss: 0.5042747339340532 | Accuracy : 0.8766\n",
            "Epoch(209/250) | Training loss: 0.08333018417460228 | Test loss: 0.48346520208154514 | Accuracy : 0.8781\n",
            "Epoch(210/250) | Training loss: 0.0842381893430771 | Test loss: 0.47631216988821695 | Accuracy : 0.8822\n",
            "Epoch(211/250) | Training loss: 0.08419785560714378 | Test loss: 0.48394413648327445 | Accuracy : 0.8808\n",
            "Epoch(212/250) | Training loss: 0.08099479085382527 | Test loss: 0.5120546826321608 | Accuracy : 0.8741\n",
            "Epoch(213/250) | Training loss: 0.08233347245212048 | Test loss: 0.4606004266222571 | Accuracy : 0.8826\n",
            "Epoch(214/250) | Training loss: 0.07964752602980717 | Test loss: 0.49547223874907587 | Accuracy : 0.8757\n",
            "Epoch(215/250) | Training loss: 0.08135286654566111 | Test loss: 0.48052741962063844 | Accuracy : 0.8808\n",
            "Epoch(216/250) | Training loss: 0.08233623493260253 | Test loss: 0.4753121305613001 | Accuracy : 0.88\n",
            "Epoch(217/250) | Training loss: 0.08121954545037134 | Test loss: 0.4661056590118226 | Accuracy : 0.8849\n",
            "Epoch(218/250) | Training loss: 0.07952511887441376 | Test loss: 0.4805475397474447 | Accuracy : 0.8785\n",
            "Epoch(219/250) | Training loss: 0.07980744575491862 | Test loss: 0.49292179353677545 | Accuracy : 0.8781\n",
            "Epoch(220/250) | Training loss: 0.0816712631309814 | Test loss: 0.46165604215518685 | Accuracy : 0.8806\n",
            "Epoch(221/250) | Training loss: 0.08011438072508158 | Test loss: 0.47921423129974655 | Accuracy : 0.8764\n",
            "Epoch(222/250) | Training loss: 0.0774318402457331 | Test loss: 0.4823020685725151 | Accuracy : 0.883\n",
            "Epoch(223/250) | Training loss: 0.0775122868397565 | Test loss: 0.4888681452839997 | Accuracy : 0.8798\n",
            "Epoch(224/250) | Training loss: 0.07571361410612268 | Test loss: 0.4868244990042061 | Accuracy : 0.8812\n",
            "Epoch(225/250) | Training loss: 0.07800863166776563 | Test loss: 0.47730329461917753 | Accuracy : 0.8819\n",
            "Epoch(226/250) | Training loss: 0.07739554725732328 | Test loss: 0.4865966311116127 | Accuracy : 0.8812\n",
            "Epoch(227/250) | Training loss: 0.07655688370071621 | Test loss: 0.4757542008427298 | Accuracy : 0.8813\n",
            "Epoch(228/250) | Training loss: 0.07557682433614392 | Test loss: 0.4804450401644798 | Accuracy : 0.8794\n",
            "Epoch(229/250) | Training loss: 0.07482828154190899 | Test loss: 0.4726549847300645 | Accuracy : 0.883\n",
            "Epoch(230/250) | Training loss: 0.07342815705870928 | Test loss: 0.49168434312009507 | Accuracy : 0.8822\n",
            "Epoch(231/250) | Training loss: 0.07653611007162424 | Test loss: 0.4893717472055915 | Accuracy : 0.8781\n",
            "Epoch(232/250) | Training loss: 0.07535226436615833 | Test loss: 0.5036137586661206 | Accuracy : 0.8778\n",
            "Epoch(233/250) | Training loss: 0.07437872270872789 | Test loss: 0.49237174194329864 | Accuracy : 0.8824\n",
            "Epoch(234/250) | Training loss: 0.07488918678213491 | Test loss: 0.4746089089353373 | Accuracy : 0.881\n",
            "Epoch(235/250) | Training loss: 0.07376573608119859 | Test loss: 0.47534999028322805 | Accuracy : 0.8825\n",
            "Epoch(236/250) | Training loss: 0.07341842324699341 | Test loss: 0.4862541798383567 | Accuracy : 0.8809\n",
            "Epoch(237/250) | Training loss: 0.07231422762638692 | Test loss: 0.5041756572996735 | Accuracy : 0.8794\n",
            "Epoch(238/250) | Training loss: 0.0713215251075926 | Test loss: 0.4948731552168822 | Accuracy : 0.8813\n",
            "Epoch(239/250) | Training loss: 0.07334062528919612 | Test loss: 0.566574730785789 | Accuracy : 0.8649\n",
            "Epoch(240/250) | Training loss: 0.07212505804628992 | Test loss: 0.5138186311740784 | Accuracy : 0.8834\n",
            "Epoch(241/250) | Training loss: 0.07144419034557746 | Test loss: 0.49499824097391903 | Accuracy : 0.8795\n",
            "Epoch(242/250) | Training loss: 0.07124449034084453 | Test loss: 0.5009111279894591 | Accuracy : 0.8821\n",
            "Epoch(243/250) | Training loss: 0.0703171633009209 | Test loss: 0.501228132065694 | Accuracy : 0.8831\n",
            "Epoch(244/250) | Training loss: 0.07020117845713918 | Test loss: 0.5059859095864995 | Accuracy : 0.8835\n",
            "Epoch(245/250) | Training loss: 0.06967119402788294 | Test loss: 0.5203297468507366 | Accuracy : 0.8813\n",
            "Epoch(246/250) | Training loss: 0.06900317915258551 | Test loss: 0.4933296623788062 | Accuracy : 0.8805\n",
            "Epoch(247/250) | Training loss: 0.07047022220347005 | Test loss: 0.5314874958935057 | Accuracy : 0.881\n",
            "Epoch(248/250) | Training loss: 0.07008842361876483 | Test loss: 0.5072788219353196 | Accuracy : 0.8811\n",
            "Epoch(249/250) | Training loss: 0.06672415062824864 | Test loss: 0.5258585054213833 | Accuracy : 0.8811\n",
            "Epoch(250/250) | Training loss: 0.06795804666728576 | Test loss: 0.49561736936781814 | Accuracy : 0.8838\n",
            "\n",
            "Number correct : 8838, Total : 10000\n",
            "Accuracy of the model after 30 epochs on the 10000 test images: 88.38% \n"
          ]
        }
      ]
    },
    {
      "cell_type": "markdown",
      "metadata": {
        "id": "IqNpkYO6V9YI"
      },
      "source": [
        "- Has the accuracy of the model increased?\n",
        "- Now plot the training loss vs the test loss over 30 epochs."
      ]
    },
    {
      "cell_type": "code",
      "metadata": {
        "id": "89a8FdTi-cNM",
        "outputId": "d0072977-2739-4aa9-efea-75e8e06716ba",
        "colab": {
          "base_uri": "https://localhost:8080/",
          "height": 282
        }
      },
      "source": [
        "import matplotlib.pyplot as plt\n",
        "%matplotlib inline\n",
        "plt.plot(train_tracker, label='Training loss')\n",
        "plt.plot(test_tracker, label='Test loss')\n",
        "plt.legend()"
      ],
      "execution_count": 15,
      "outputs": [
        {
          "output_type": "execute_result",
          "data": {
            "text/plain": [
              "<matplotlib.legend.Legend at 0x7f0ea2ab6c50>"
            ]
          },
          "metadata": {},
          "execution_count": 15
        },
        {
          "output_type": "display_data",
          "data": {
            "text/plain": [
              "<Figure size 432x288 with 1 Axes>"
            ],
            "image/png": "[encoded data removed]"
          },
          "metadata": {
            "needs_background": "light"
          }
        }
      ]
    },
    {
      "cell_type": "markdown",
      "metadata": {
        "id": "DHtKTHKKjG3r"
      },
      "source": [
        "- Now add the accuracy to the mix."
      ]
    },
    {
      "cell_type": "code",
      "metadata": {
        "id": "AJgyMHm2Pvx5",
        "outputId": "b2f92127-1022-466e-a0ee-967b985b3636",
        "colab": {
          "base_uri": "https://localhost:8080/",
          "height": 282
        }
      },
      "source": [
        "import matplotlib.pyplot as plt\n",
        "%matplotlib inline\n",
        "plt.plot(train_tracker, label='Training loss')\n",
        "plt.plot(test_tracker, label='Test loss')\n",
        "plt.plot(accuracy_tracker, label='Test accuracy')\n",
        "plt.legend()"
      ],
      "execution_count": 16,
      "outputs": [
        {
          "output_type": "execute_result",
          "data": {
            "text/plain": [
              "<matplotlib.legend.Legend at 0x7f0ea29a5810>"
            ]
          },
          "metadata": {},
          "execution_count": 16
        },
        {
          "output_type": "display_data",
          "data": {
            "text/plain": [
              "<Figure size 432x288 with 1 Axes>"
            ],
            "image/png": "[encoded data removed]"
          },
          "metadata": {
            "needs_background": "light"
          }
        }
      ]
    },
    {
      "cell_type": "markdown",
      "metadata": {
        "id": "APhVglVTk-og"
      },
      "source": [
        "## Further challenges and experiments\n",
        "- Can you get better accuracy from a model if you :\n",
        "    - Add more layers?\n",
        "    - Change the number of nodes in the layers?\n",
        "    - Train over fewer/higher epochs?\n",
        "    \n",
        "- Can you improve on your results if you add additional layers like [Dropout](https://pytorch.org/docs/master/nn.html#torch.nn.Dropout)"
      ]
    },
    {
      "cell_type": "code",
      "metadata": {
        "id": "Ex8FzAY7jG3v"
      },
      "source": [
        ""
      ],
      "execution_count": 16,
      "outputs": []
    },
    {
      "cell_type": "code",
      "metadata": {
        "id": "6ImOG4oXjG3x"
      },
      "source": [
        ""
      ],
      "execution_count": 16,
      "outputs": []
    },
    {
      "cell_type": "code",
      "metadata": {
        "id": "CwHV3ig7jG3y"
      },
      "source": [
        ""
      ],
      "execution_count": 16,
      "outputs": []
    },
    {
      "cell_type": "code",
      "metadata": {
        "id": "fg3aU2vJjG30"
      },
      "source": [
        ""
      ],
      "execution_count": 16,
      "outputs": []
    },
    {
      "cell_type": "code",
      "metadata": {
        "id": "9UfGdMuCjG32"
      },
      "source": [
        ""
      ],
      "execution_count": 16,
      "outputs": []
    },
    {
      "cell_type": "code",
      "metadata": {
        "id": "xxOzS2-TjG34"
      },
      "source": [
        ""
      ],
      "execution_count": 16,
      "outputs": []
    },
    {
      "cell_type": "code",
      "metadata": {
        "id": "3kdUCpCyjG35"
      },
      "source": [
        ""
      ],
      "execution_count": 16,
      "outputs": []
    },
    {
      "cell_type": "code",
      "metadata": {
        "id": "RMhC9JJujG37"
      },
      "source": [
        ""
      ],
      "execution_count": 16,
      "outputs": []
    }
  ]
}